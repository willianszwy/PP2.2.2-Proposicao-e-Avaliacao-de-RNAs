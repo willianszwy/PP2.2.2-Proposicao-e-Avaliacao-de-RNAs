{
  "nbformat": 4,
  "nbformat_minor": 0,
  "metadata": {
    "accelerator": "GPU",
    "colab": {
      "name": "PP2.2.2 - Proposição e Avaliação de RNAs.ipynb",
      "provenance": [],
      "include_colab_link": true
    },
    "kernelspec": {
      "display_name": "Python 3",
      "language": "python",
      "name": "python3"
    },
    "language_info": {
      "codemirror_mode": {
        "name": "ipython",
        "version": 3
      },
      "file_extension": ".py",
      "mimetype": "text/x-python",
      "name": "python",
      "nbconvert_exporter": "python",
      "pygments_lexer": "ipython3",
      "version": "3.6.10"
    }
  },
  "cells": [
    {
      "cell_type": "markdown",
      "metadata": {
        "id": "view-in-github",
        "colab_type": "text"
      },
      "source": [
        "<a href=\"https://colab.research.google.com/github/willianszwy/PP2.2.2-Proposicao-e-Avaliacao-de-RNAs/blob/main/PP2_2_2_Proposic%CC%A7a%CC%83o_e_Avaliac%CC%A7a%CC%83o_de_RNAs.ipynb\" target=\"_parent\"><img src=\"https://colab.research.google.com/assets/colab-badge.svg\" alt=\"Open In Colab\"/></a>"
      ]
    },
    {
      "cell_type": "markdown",
      "metadata": {
        "id": "ac-Mp3etvEo8"
      },
      "source": [
        "## Redes Neurais Artificiais 2021.1\n",
        "\n",
        "- **Disciplina**: Redes Neurais Artificiais 2021.1  \n",
        "- **Professora**: Elloá B. Guedes (ebgcosta@uea.edu.br)  \n",
        "- **Github**: http://github.com/elloa  \n",
        "        \n",
        "\n",
        "Levando em conta a base de dados **_Forest Cover Type_**, esta segunda parte do Projeto Prático 2.2 diz respeito à proposição e avaliação de múltiplas redes neurais artificiais do tipo feedforward multilayer perceptron para o problema da classificação multi-classe da cobertura florestal em uma área do Roosevelt National Forest.\n",
        "\n",
        "## Testando Redes Neurais sem os Atributos Categórios\n",
        "\n",
        "1. Abra a base de dados em questão\n",
        "2. Elimine todas as colunas relativas aos atributos categóricos\n",
        "3. Armazene o atributo alvo em uma variável y e os atributos preditores em uma variável X\n",
        "4. Efetue uma partição holdout 70/30 com o sklearn, distribuindo os exemplos de maneira aleatória\n",
        "5. Efetue o escalonamento dos atributos\n",
        "\n",
        "### Escalonando os atributos\n",
        "\n",
        "O treinamento de uma rede neural artificial é mais eficiente quando os valores que lhes são fornecidos como entrada são pequenos, pois isto favorece a convergência. Isto é feito escalonando-se todos os atributos para o intervalo [0,1], mas precisa ser feito de maneira cautelosa, para que informações do conjunto de teste não sejam fornecidas no treinamento.\n",
        "\n",
        "Há duas estratégias para tal escalonamento: normalização e padronização. Ambas possuem características particulares, vantagens e limitações, como é possível ver aqui: https://www.analyticsvidhya.com/blog/2020/04/feature-scaling-machine-learning-normalization-standardization/\n",
        "\n",
        "\n",
        "No nosso caso, vamos usar a padronização. Assim, com os atributos preditores do treinamento, isto é, X_train, deve-se subtrair a média e dividir pelo desvio padrão:\n",
        "\n",
        "X_train_std = (X_train - np.mean(X_train))/np.std(X_train)\n",
        "\n",
        "Em seguida, o mesmo deve ser feito com os atributos preditores do conjunto de testes, mas com padronização relativa ao conjunto de treinamento:\n",
        "\n",
        "X_test_std = (X_test - np.mean(X_train))/np.std(X_train)\n",
        "\n",
        "Se todo o conjunto X for utilizado na padronização, a rede neural receberá informações do conjunto de teste por meio da média e variância utilizada para preparar os dados de treinamento, o que não é desejável.\n",
        "\n",
        "\n",
        "### Continuando\n",
        "\n",
        "5. Treine uma rede neural multilayer perceptron para este problema com uma única camada e dez neurônios  \n",
        "    5.1 Utilize a função de ativação ReLU  \n",
        "    5.2 Utilize o solver Adam    \n",
        "    5.3 Imprima o passo a passo do treinamento    \n",
        "    5.4 Utilize o número máximo de épocas igual a 300  \n",
        "6. Com o modelo em questão, após o treinamento, apresente:  \n",
        "    6.1 Matriz de confusão para o conjunto de teste  \n",
        "    6.2 Acurácia  \n",
        "    6.3 F-Score  \n",
        "    6.4 Precisão  \n",
        "    6.5 Revocação  \n",
        "7. Repita o treinamento da mesma rede anterior sem imprimir o passo a passo (verbose False) por 100 vezes*  \n",
        "    7.1 Cada uma destas repetições deve ser feita com uma nova partição Holdout  \n",
        "    7.2 Apresente a média e o desvio padrão da acurácia e do F-Score para o conjunto de treino  \n",
        "8. Repita por 100 vezes* o treinamento desta mesma rede, mas utilizando o otimizador SGD  \n",
        "    8.1 Apresente a média e o desvio padrão da acurácia e do F-Score para o conjunto de treino  \n",
        "9. Houve influência da escolha do otimizador no desempenho da rede?\n",
        "\n",
        "---\n",
        "⚠ **Nota:** Foi acordado com a professora Elloá B. Guedes (criadora do projeto em questão), que o número de vezes ficará reduzido para 15 vezes, devida a limitação de hardware dos alunos e pelo longo tempo de treinamento. Entretanto, fica a seu critério utilizar a quantidade de vezes que é recomendado pelo enunciado.\n",
        "\n",
        "Diante disso, sempre será necessário inserir um valor antes de rodar as questões que pedirem uma quantidade de vezes!\n",
        "\n",
        "`😉 Caso você tenha um computador potente, daqueles que tem Led RGB, denominado GAMER, execute de acordo com o enunciado e nos mostre os resultados depois!!!!`\n",
        "`"
      ]
    },
    {
      "cell_type": "code",
      "metadata": {
        "id": "pyaudjLPNLj0"
      },
      "source": [
        "import pandas as pd\n",
        "import numpy as np\n",
        "from sklearn.model_selection import train_test_split\n",
        "from sklearn.neural_network import MLPClassifier\n",
        "from sklearn.metrics import confusion_matrix\n",
        "from sklearn.metrics import accuracy_score\n",
        "from sklearn.metrics import f1_score\n",
        "from sklearn.metrics import plot_confusion_matrix\n",
        "from sklearn.metrics import classification_report\n",
        "import matplotlib.pyplot as plt"
      ],
      "execution_count": null,
      "outputs": []
    },
    {
      "cell_type": "code",
      "metadata": {
        "colab": {
          "base_uri": "https://localhost:8080/"
        },
        "id": "KWWLujRFvEpA",
        "outputId": "c52cfcf5-b62a-4df1-f78e-e93075d7ba5b"
      },
      "source": [
        "!wget https://archive.ics.uci.edu/ml/machine-learning-databases/covtype/covtype.data.gz"
      ],
      "execution_count": null,
      "outputs": [
        {
          "name": "stdout",
          "output_type": "stream",
          "text": [
            "--2021-11-29 01:04:58--  https://archive.ics.uci.edu/ml/machine-learning-databases/covtype/covtype.data.gz\n",
            "Resolving archive.ics.uci.edu (archive.ics.uci.edu)... 128.195.10.252\n",
            "Connecting to archive.ics.uci.edu (archive.ics.uci.edu)|128.195.10.252|:443... connected.\n",
            "HTTP request sent, awaiting response... 200 OK\n",
            "Length: 11240707 (11M) [application/x-httpd-php]\n",
            "Saving to: ‘covtype.data.gz’\n",
            "\n",
            "covtype.data.gz     100%[===================>]  10.72M  19.5MB/s    in 0.5s    \n",
            "\n",
            "2021-11-29 01:04:59 (19.5 MB/s) - ‘covtype.data.gz’ saved [11240707/11240707]\n",
            "\n"
          ]
        }
      ]
    },
    {
      "cell_type": "markdown",
      "metadata": {
        "id": "01HtSuqlRbHl"
      },
      "source": [
        "1) Abra a base de dados em questão"
      ]
    },
    {
      "cell_type": "code",
      "metadata": {
        "id": "ho4a-v0zM8MG"
      },
      "source": [
        "!gunzip covtype.data.gz"
      ],
      "execution_count": null,
      "outputs": []
    },
    {
      "cell_type": "code",
      "metadata": {
        "id": "Mp0qVJcBM-Ey"
      },
      "source": [
        "columns = ['Elevation', 'Aspect', 'Slope', 'Horizontal_Distance_To_Hydrology', 'Vertical_Distance_To_Hydrology', 'Horizontal_Distance_To_Roadways', 'Hillshade_9am', 'Hillshade_Noon', 'Hillshade_3pm', 'Horizontal_Distance_To_Fire_Points', 'Wilderness_Area1', 'Wilderness_Area2', 'Wilderness_Area3', 'Wilderness_Area4', 'Soil_Type1', 'Soil_Type2', 'Soil_Type3', 'Soil_Type4', 'Soil_Type5', 'Soil_Type6', 'Soil_Type7', 'Soil_Type8', 'Soil_Type9', 'Soil_Type10', 'Soil_Type11', 'Soil_Type12', 'Soil_Type13', 'Soil_Type14', 'Soil_Type15', 'Soil_Type16', 'Soil_Type17', 'Soil_Type18', 'Soil_Type19', 'Soil_Type20', 'Soil_Type21', 'Soil_Type22', 'Soil_Type23', 'Soil_Type24', 'Soil_Type25', 'Soil_Type26', 'Soil_Type27', 'Soil_Type28', 'Soil_Type29', 'Soil_Type30', 'Soil_Type31', 'Soil_Type32', 'Soil_Type33', 'Soil_Type34', 'Soil_Type35', 'Soil_Type36', 'Soil_Type37', 'Soil_Type38', 'Soil_Type39', 'Soil_Type40', 'Cover_Type']\n",
        "df_forest_cover = pd.read_csv(\"covtype.data\", names = columns)"
      ],
      "execution_count": null,
      "outputs": []
    },
    {
      "cell_type": "markdown",
      "metadata": {
        "id": "yZylaoVJRlbB"
      },
      "source": [
        "2) Elimine todas as colunas relativas aos atributos categóricos"
      ]
    },
    {
      "cell_type": "code",
      "metadata": {
        "id": "W1r21xTuOCJs"
      },
      "source": [
        "df_forest_cover.drop(columns=['Wilderness_Area1',\n",
        "       'Wilderness_Area2', 'Wilderness_Area3', 'Wilderness_Area4',\n",
        "       'Soil_Type1', 'Soil_Type2', 'Soil_Type3', 'Soil_Type4', 'Soil_Type5',\n",
        "       'Soil_Type6', 'Soil_Type7', 'Soil_Type8', 'Soil_Type9', 'Soil_Type10',\n",
        "       'Soil_Type11', 'Soil_Type12', 'Soil_Type13', 'Soil_Type14',\n",
        "       'Soil_Type15', 'Soil_Type16', 'Soil_Type17', 'Soil_Type18',\n",
        "       'Soil_Type19', 'Soil_Type20', 'Soil_Type21', 'Soil_Type22',\n",
        "       'Soil_Type23', 'Soil_Type24', 'Soil_Type25', 'Soil_Type26',\n",
        "       'Soil_Type27', 'Soil_Type28', 'Soil_Type29', 'Soil_Type30',\n",
        "       'Soil_Type31', 'Soil_Type32', 'Soil_Type33', 'Soil_Type34',\n",
        "       'Soil_Type35', 'Soil_Type36', 'Soil_Type37', 'Soil_Type38',\n",
        "       'Soil_Type39', 'Soil_Type40'],inplace=True)"
      ],
      "execution_count": null,
      "outputs": []
    },
    {
      "cell_type": "code",
      "metadata": {
        "colab": {
          "base_uri": "https://localhost:8080/"
        },
        "id": "LogVHRDhOgT_",
        "outputId": "9722a634-00e8-44de-a43b-2e6bc47d8bc8"
      },
      "source": [
        "df_forest_cover.columns"
      ],
      "execution_count": null,
      "outputs": [
        {
          "data": {
            "text/plain": [
              "Index(['Elevation', 'Aspect', 'Slope', 'Horizontal_Distance_To_Hydrology',\n",
              "       'Vertical_Distance_To_Hydrology', 'Horizontal_Distance_To_Roadways',\n",
              "       'Hillshade_9am', 'Hillshade_Noon', 'Hillshade_3pm',\n",
              "       'Horizontal_Distance_To_Fire_Points', 'Cover_Type'],\n",
              "      dtype='object')"
            ]
          },
          "execution_count": 7,
          "metadata": {},
          "output_type": "execute_result"
        }
      ]
    },
    {
      "cell_type": "code",
      "metadata": {
        "colab": {
          "base_uri": "https://localhost:8080/",
          "height": 226
        },
        "id": "6hcIp76COrjg",
        "outputId": "b3f01632-bdc8-4426-cb8d-d79bc1f6264f"
      },
      "source": [
        "df_forest_cover.head()"
      ],
      "execution_count": null,
      "outputs": [
        {
          "data": {
            "text/html": [
              "<div>\n",
              "<style scoped>\n",
              "    .dataframe tbody tr th:only-of-type {\n",
              "        vertical-align: middle;\n",
              "    }\n",
              "\n",
              "    .dataframe tbody tr th {\n",
              "        vertical-align: top;\n",
              "    }\n",
              "\n",
              "    .dataframe thead th {\n",
              "        text-align: right;\n",
              "    }\n",
              "</style>\n",
              "<table border=\"1\" class=\"dataframe\">\n",
              "  <thead>\n",
              "    <tr style=\"text-align: right;\">\n",
              "      <th></th>\n",
              "      <th>Elevation</th>\n",
              "      <th>Aspect</th>\n",
              "      <th>Slope</th>\n",
              "      <th>Horizontal_Distance_To_Hydrology</th>\n",
              "      <th>Vertical_Distance_To_Hydrology</th>\n",
              "      <th>Horizontal_Distance_To_Roadways</th>\n",
              "      <th>Hillshade_9am</th>\n",
              "      <th>Hillshade_Noon</th>\n",
              "      <th>Hillshade_3pm</th>\n",
              "      <th>Horizontal_Distance_To_Fire_Points</th>\n",
              "      <th>Cover_Type</th>\n",
              "    </tr>\n",
              "  </thead>\n",
              "  <tbody>\n",
              "    <tr>\n",
              "      <th>0</th>\n",
              "      <td>2596</td>\n",
              "      <td>51</td>\n",
              "      <td>3</td>\n",
              "      <td>258</td>\n",
              "      <td>0</td>\n",
              "      <td>510</td>\n",
              "      <td>221</td>\n",
              "      <td>232</td>\n",
              "      <td>148</td>\n",
              "      <td>6279</td>\n",
              "      <td>5</td>\n",
              "    </tr>\n",
              "    <tr>\n",
              "      <th>1</th>\n",
              "      <td>2590</td>\n",
              "      <td>56</td>\n",
              "      <td>2</td>\n",
              "      <td>212</td>\n",
              "      <td>-6</td>\n",
              "      <td>390</td>\n",
              "      <td>220</td>\n",
              "      <td>235</td>\n",
              "      <td>151</td>\n",
              "      <td>6225</td>\n",
              "      <td>5</td>\n",
              "    </tr>\n",
              "    <tr>\n",
              "      <th>2</th>\n",
              "      <td>2804</td>\n",
              "      <td>139</td>\n",
              "      <td>9</td>\n",
              "      <td>268</td>\n",
              "      <td>65</td>\n",
              "      <td>3180</td>\n",
              "      <td>234</td>\n",
              "      <td>238</td>\n",
              "      <td>135</td>\n",
              "      <td>6121</td>\n",
              "      <td>2</td>\n",
              "    </tr>\n",
              "    <tr>\n",
              "      <th>3</th>\n",
              "      <td>2785</td>\n",
              "      <td>155</td>\n",
              "      <td>18</td>\n",
              "      <td>242</td>\n",
              "      <td>118</td>\n",
              "      <td>3090</td>\n",
              "      <td>238</td>\n",
              "      <td>238</td>\n",
              "      <td>122</td>\n",
              "      <td>6211</td>\n",
              "      <td>2</td>\n",
              "    </tr>\n",
              "    <tr>\n",
              "      <th>4</th>\n",
              "      <td>2595</td>\n",
              "      <td>45</td>\n",
              "      <td>2</td>\n",
              "      <td>153</td>\n",
              "      <td>-1</td>\n",
              "      <td>391</td>\n",
              "      <td>220</td>\n",
              "      <td>234</td>\n",
              "      <td>150</td>\n",
              "      <td>6172</td>\n",
              "      <td>5</td>\n",
              "    </tr>\n",
              "  </tbody>\n",
              "</table>\n",
              "</div>"
            ],
            "text/plain": [
              "   Elevation  Aspect  ...  Horizontal_Distance_To_Fire_Points  Cover_Type\n",
              "0       2596      51  ...                                6279           5\n",
              "1       2590      56  ...                                6225           5\n",
              "2       2804     139  ...                                6121           2\n",
              "3       2785     155  ...                                6211           2\n",
              "4       2595      45  ...                                6172           5\n",
              "\n",
              "[5 rows x 11 columns]"
            ]
          },
          "execution_count": 8,
          "metadata": {},
          "output_type": "execute_result"
        }
      ]
    },
    {
      "cell_type": "markdown",
      "metadata": {
        "id": "tJYzUyg8RtQ8"
      },
      "source": [
        "3) Armazene o atributo alvo em uma variável y e os atributos preditores em uma variável X"
      ]
    },
    {
      "cell_type": "code",
      "metadata": {
        "id": "XSnnlW6PP1i9"
      },
      "source": [
        "y = df_forest_cover['Cover_Type']\n",
        "X = df_forest_cover.drop('Cover_Type', axis=1)\n"
      ],
      "execution_count": null,
      "outputs": []
    },
    {
      "cell_type": "markdown",
      "metadata": {
        "id": "sDP115C-R0Pr"
      },
      "source": [
        "4) Efetue uma partição holdout 70/30 com o sklearn, distribuindo os exemplos de maneira aleatória"
      ]
    },
    {
      "cell_type": "code",
      "metadata": {
        "id": "5dbN3ri3Rz27"
      },
      "source": [
        "X_train, X_test, y_train, y_test = train_test_split(X, y, train_size=0.7, shuffle=True, random_state=1)"
      ],
      "execution_count": null,
      "outputs": []
    },
    {
      "cell_type": "markdown",
      "metadata": {
        "id": "p6ICeiLGR4nH"
      },
      "source": [
        "5) Efetue o escalonamento dos atributos"
      ]
    },
    {
      "cell_type": "code",
      "metadata": {
        "id": "CRm43g-mQVU4"
      },
      "source": [
        "X_train_std = (X_train - np.mean(X_train))/np.std(X_train)"
      ],
      "execution_count": null,
      "outputs": []
    },
    {
      "cell_type": "code",
      "metadata": {
        "id": "Lq17wuzvQ3K9"
      },
      "source": [
        "X_test_std = (X_test - np.mean(X_train))/np.std(X_train)"
      ],
      "execution_count": null,
      "outputs": []
    },
    {
      "cell_type": "code",
      "metadata": {
        "colab": {
          "base_uri": "https://localhost:8080/",
          "height": 226
        },
        "id": "2v0KgzzbQ8Ih",
        "outputId": "0eb467d1-e846-41cf-b6d2-c0136a0aaa86"
      },
      "source": [
        "X_test_std.head()"
      ],
      "execution_count": null,
      "outputs": [
        {
          "data": {
            "text/html": [
              "<div>\n",
              "<style scoped>\n",
              "    .dataframe tbody tr th:only-of-type {\n",
              "        vertical-align: middle;\n",
              "    }\n",
              "\n",
              "    .dataframe tbody tr th {\n",
              "        vertical-align: top;\n",
              "    }\n",
              "\n",
              "    .dataframe thead th {\n",
              "        text-align: right;\n",
              "    }\n",
              "</style>\n",
              "<table border=\"1\" class=\"dataframe\">\n",
              "  <thead>\n",
              "    <tr style=\"text-align: right;\">\n",
              "      <th></th>\n",
              "      <th>Elevation</th>\n",
              "      <th>Aspect</th>\n",
              "      <th>Slope</th>\n",
              "      <th>Horizontal_Distance_To_Hydrology</th>\n",
              "      <th>Vertical_Distance_To_Hydrology</th>\n",
              "      <th>Horizontal_Distance_To_Roadways</th>\n",
              "      <th>Hillshade_9am</th>\n",
              "      <th>Hillshade_Noon</th>\n",
              "      <th>Hillshade_3pm</th>\n",
              "      <th>Horizontal_Distance_To_Fire_Points</th>\n",
              "    </tr>\n",
              "  </thead>\n",
              "  <tbody>\n",
              "    <tr>\n",
              "      <th>376969</th>\n",
              "      <td>-0.037426</td>\n",
              "      <td>-0.488988</td>\n",
              "      <td>0.920164</td>\n",
              "      <td>1.992831</td>\n",
              "      <td>1.790238</td>\n",
              "      <td>0.423554</td>\n",
              "      <td>1.413012</td>\n",
              "      <td>-0.877245</td>\n",
              "      <td>-1.789360</td>\n",
              "      <td>-1.046576</td>\n",
              "    </tr>\n",
              "    <tr>\n",
              "      <th>59897</th>\n",
              "      <td>0.852203</td>\n",
              "      <td>0.002529</td>\n",
              "      <td>-0.547926</td>\n",
              "      <td>1.131772</td>\n",
              "      <td>-0.402780</td>\n",
              "      <td>0.995622</td>\n",
              "      <td>0.740936</td>\n",
              "      <td>0.894092</td>\n",
              "      <td>-0.066030</td>\n",
              "      <td>1.689429</td>\n",
              "    </tr>\n",
              "    <tr>\n",
              "      <th>247100</th>\n",
              "      <td>-2.717032</td>\n",
              "      <td>-1.373720</td>\n",
              "      <td>0.519776</td>\n",
              "      <td>0.251893</td>\n",
              "      <td>0.539532</td>\n",
              "      <td>-1.161671</td>\n",
              "      <td>-0.715228</td>\n",
              "      <td>-0.978464</td>\n",
              "      <td>0.116747</td>\n",
              "      <td>-1.382351</td>\n",
              "    </tr>\n",
              "    <tr>\n",
              "      <th>111532</th>\n",
              "      <td>-0.387561</td>\n",
              "      <td>-0.399622</td>\n",
              "      <td>-0.014075</td>\n",
              "      <td>-0.562113</td>\n",
              "      <td>-0.334248</td>\n",
              "      <td>0.028692</td>\n",
              "      <td>1.151649</td>\n",
              "      <td>0.033728</td>\n",
              "      <td>-0.927695</td>\n",
              "      <td>0.232389</td>\n",
              "    </tr>\n",
              "    <tr>\n",
              "      <th>522294</th>\n",
              "      <td>-0.141038</td>\n",
              "      <td>-0.971569</td>\n",
              "      <td>0.920164</td>\n",
              "      <td>0.308356</td>\n",
              "      <td>1.241984</td>\n",
              "      <td>-0.036797</td>\n",
              "      <td>0.367561</td>\n",
              "      <td>-1.737608</td>\n",
              "      <td>-1.319361</td>\n",
              "      <td>0.058088</td>\n",
              "    </tr>\n",
              "  </tbody>\n",
              "</table>\n",
              "</div>"
            ],
            "text/plain": [
              "        Elevation    Aspect  ...  Hillshade_3pm  Horizontal_Distance_To_Fire_Points\n",
              "376969  -0.037426 -0.488988  ...      -1.789360                           -1.046576\n",
              "59897    0.852203  0.002529  ...      -0.066030                            1.689429\n",
              "247100  -2.717032 -1.373720  ...       0.116747                           -1.382351\n",
              "111532  -0.387561 -0.399622  ...      -0.927695                            0.232389\n",
              "522294  -0.141038 -0.971569  ...      -1.319361                            0.058088\n",
              "\n",
              "[5 rows x 10 columns]"
            ]
          },
          "execution_count": 13,
          "metadata": {},
          "output_type": "execute_result"
        }
      ]
    },
    {
      "cell_type": "markdown",
      "metadata": {
        "id": "SB_hPNYRTSHO"
      },
      "source": [
        "5) Treine uma rede neural multilayer perceptron para este problema com uma única camada e dez neurônios"
      ]
    },
    {
      "cell_type": "code",
      "metadata": {
        "id": "sPVNF8MkTT7T"
      },
      "source": [
        "clf = MLPClassifier(activation='relu',solver='adam', verbose=True, hidden_layer_sizes=(10,), max_iter=300,alpha=1e-05,random_state=1)"
      ],
      "execution_count": null,
      "outputs": []
    },
    {
      "cell_type": "code",
      "metadata": {
        "colab": {
          "base_uri": "https://localhost:8080/"
        },
        "id": "3j9L9vpVVSfC",
        "outputId": "884b545c-3635-4ac3-c2a5-a1c6606565b6"
      },
      "source": [
        "clf.fit(X_train_std, y_train)"
      ],
      "execution_count": null,
      "outputs": [
        {
          "output_type": "stream",
          "name": "stdout",
          "text": [
            "Iteration 1, loss = 0.92717562\n",
            "Iteration 2, loss = 0.70777019\n",
            "Iteration 3, loss = 0.68934153\n",
            "Iteration 4, loss = 0.68092758\n",
            "Iteration 5, loss = 0.67471941\n",
            "Iteration 6, loss = 0.67039080\n",
            "Iteration 7, loss = 0.66792286\n",
            "Iteration 8, loss = 0.66639328\n",
            "Iteration 9, loss = 0.66522587\n",
            "Iteration 10, loss = 0.66413426\n",
            "Iteration 11, loss = 0.66324763\n",
            "Iteration 12, loss = 0.66245579\n",
            "Iteration 13, loss = 0.66166308\n",
            "Iteration 14, loss = 0.66092262\n",
            "Iteration 15, loss = 0.66018618\n",
            "Iteration 16, loss = 0.65960065\n",
            "Iteration 17, loss = 0.65908104\n",
            "Iteration 18, loss = 0.65866413\n",
            "Iteration 19, loss = 0.65820954\n",
            "Iteration 20, loss = 0.65792874\n",
            "Iteration 21, loss = 0.65765337\n",
            "Iteration 22, loss = 0.65740349\n",
            "Iteration 23, loss = 0.65710202\n",
            "Iteration 24, loss = 0.65692173\n",
            "Iteration 25, loss = 0.65662437\n",
            "Iteration 26, loss = 0.65656499\n",
            "Iteration 27, loss = 0.65639138\n",
            "Iteration 28, loss = 0.65618240\n",
            "Iteration 29, loss = 0.65614504\n",
            "Iteration 30, loss = 0.65602744\n",
            "Iteration 31, loss = 0.65592779\n",
            "Iteration 32, loss = 0.65574173\n",
            "Iteration 33, loss = 0.65571738\n",
            "Iteration 34, loss = 0.65560147\n",
            "Iteration 35, loss = 0.65551328\n",
            "Iteration 36, loss = 0.65542366\n",
            "Iteration 37, loss = 0.65542875\n",
            "Iteration 38, loss = 0.65533354\n",
            "Iteration 39, loss = 0.65524570\n",
            "Iteration 40, loss = 0.65525942\n",
            "Iteration 41, loss = 0.65520948\n",
            "Iteration 42, loss = 0.65510314\n",
            "Iteration 43, loss = 0.65498979\n",
            "Iteration 44, loss = 0.65501219\n",
            "Iteration 45, loss = 0.65490534\n",
            "Iteration 46, loss = 0.65489644\n",
            "Iteration 47, loss = 0.65477389\n",
            "Iteration 48, loss = 0.65481595\n",
            "Iteration 49, loss = 0.65467305\n",
            "Iteration 50, loss = 0.65460412\n",
            "Iteration 51, loss = 0.65456518\n",
            "Iteration 52, loss = 0.65453749\n",
            "Iteration 53, loss = 0.65444318\n",
            "Iteration 54, loss = 0.65442542\n",
            "Iteration 55, loss = 0.65431827\n",
            "Iteration 56, loss = 0.65426571\n",
            "Iteration 57, loss = 0.65420025\n",
            "Iteration 58, loss = 0.65414585\n",
            "Iteration 59, loss = 0.65406721\n",
            "Iteration 60, loss = 0.65398460\n",
            "Iteration 61, loss = 0.65401905\n",
            "Iteration 62, loss = 0.65389247\n",
            "Iteration 63, loss = 0.65384213\n",
            "Iteration 64, loss = 0.65380896\n",
            "Iteration 65, loss = 0.65380685\n",
            "Iteration 66, loss = 0.65373343\n",
            "Training loss did not improve more than tol=0.000100 for 10 consecutive epochs. Stopping.\n"
          ]
        },
        {
          "output_type": "execute_result",
          "data": {
            "text/plain": [
              "MLPClassifier(alpha=1e-05, hidden_layer_sizes=(10,), max_iter=300,\n",
              "              random_state=1, verbose=True)"
            ]
          },
          "metadata": {},
          "execution_count": 28
        }
      ]
    },
    {
      "cell_type": "code",
      "metadata": {
        "id": "X-79qB9NNrb7"
      },
      "source": [
        "y_pred =clf.predict(X_test_std)"
      ],
      "execution_count": null,
      "outputs": []
    },
    {
      "cell_type": "code",
      "metadata": {
        "colab": {
          "base_uri": "https://localhost:8080/",
          "height": 334
        },
        "id": "EIRaezPCPFOC",
        "outputId": "7deb3d10-7a91-49d8-cc05-14c4aea2aaeb"
      },
      "source": [
        "fig = plot_confusion_matrix(clf, X_test_std, y_test, display_labels=clf.classes_)"
      ],
      "execution_count": null,
      "outputs": [
        {
          "output_type": "stream",
          "name": "stderr",
          "text": [
            "/usr/local/lib/python3.7/dist-packages/sklearn/utils/deprecation.py:87: FutureWarning: Function plot_confusion_matrix is deprecated; Function `plot_confusion_matrix` is deprecated in 1.0 and will be removed in 1.2. Use one of the class methods: ConfusionMatrixDisplay.from_predictions or ConfusionMatrixDisplay.from_estimator.\n",
            "  warnings.warn(msg, category=FutureWarning)\n"
          ]
        },
        {
          "output_type": "display_data",
          "data": {
            "image/png": "[encoded data removed]",
            "text/plain": [
              "<Figure size 432x288 with 2 Axes>"
            ]
          },
          "metadata": {
            "needs_background": "light"
          }
        }
      ]
    },
    {
      "cell_type": "code",
      "metadata": {
        "colab": {
          "base_uri": "https://localhost:8080/"
        },
        "id": "qd1YJ7MHQkhQ",
        "outputId": "ee8ab4d3-04b7-41ec-b992-afac87a7420c"
      },
      "source": [
        "print('Acurácia: {:.4f}'.format(accuracy_score(y_test, y_pred)))"
      ],
      "execution_count": null,
      "outputs": [
        {
          "output_type": "stream",
          "name": "stdout",
          "text": [
            "Acurácia: 0.7162\n"
          ]
        }
      ]
    },
    {
      "cell_type": "code",
      "metadata": {
        "colab": {
          "base_uri": "https://localhost:8080/"
        },
        "id": "j9y8nNukSThq",
        "outputId": "e7b9b160-ad8a-4bc2-9b08-b6dd9843dfba"
      },
      "source": [
        "print(classification_report(y_test, y_pred))"
      ],
      "execution_count": null,
      "outputs": [
        {
          "output_type": "stream",
          "name": "stdout",
          "text": [
            "              precision    recall  f1-score   support\n",
            "\n",
            "           1       0.70      0.71      0.71     63547\n",
            "           2       0.75      0.79      0.77     84955\n",
            "           3       0.66      0.74      0.70     10771\n",
            "           4       0.61      0.35      0.44       808\n",
            "           5       0.82      0.07      0.13      2825\n",
            "           6       0.46      0.25      0.33      5239\n",
            "           7       0.68      0.44      0.54      6159\n",
            "\n",
            "    accuracy                           0.72    174304\n",
            "   macro avg       0.67      0.48      0.51    174304\n",
            "weighted avg       0.71      0.72      0.71    174304\n",
            "\n"
          ]
        }
      ]
    },
    {
      "cell_type": "code",
      "metadata": {
        "colab": {
          "base_uri": "https://localhost:8080/",
          "height": 296
        },
        "id": "5nCI5sI6SXd0",
        "outputId": "9740959f-fc9c-4f40-be13-3b89a3e3c743"
      },
      "source": [
        "plt.plot(clf.loss_curve_)\n",
        "plt.title(\"Loss Curve\", fontsize=14)\n",
        "plt.xlabel('Iterations')\n",
        "plt.ylabel('Cost')\n",
        "plt.show()"
      ],
      "execution_count": null,
      "outputs": [
        {
          "output_type": "display_data",
          "data": {
            "image/png": "[encoded data removed]",
            "text/plain": [
              "<Figure size 432x288 with 1 Axes>"
            ]
          },
          "metadata": {
            "needs_background": "light"
          }
        }
      ]
    },
    {
      "cell_type": "markdown",
      "metadata": {
        "id": "3Tg26XSSa_h0"
      },
      "source": [
        "7) Repita o treinamento da mesma rede anterior sem imprimir o passo a passo (verbose False) por 100 vezes*.  \n",
        "7.1 Cada uma destas repetições deve ser feita com uma nova partição Holdout "
      ]
    },
    {
      "cell_type": "code",
      "metadata": {
        "id": "GCmKD3BMb9Cq"
      },
      "source": [
        "def choose_amount():\n",
        "  amount = int(input(\"O recomendado é 15, mas pode ser entre (2, 100): \"))\n",
        "  while amount <= 1 or amount > 100:\n",
        "    amount = int(input(\"O recomendado é 15, mas pode ser entre (2, 100): \"))\n",
        "\n",
        "  print(\"Quantidade de vezes escolhido: \", amount)\n",
        "\n",
        "  return amount"
      ],
      "execution_count": null,
      "outputs": []
    },
    {
      "cell_type": "code",
      "metadata": {
        "id": "erIWBVgSa9WX"
      },
      "source": [
        "amount = choose_amount()\n",
        "accuracys = []\n",
        "fscores = []\n",
        "\n",
        "for _ in range(amount):\n",
        "  X_train, X_test, y_train, y_test = train_test_split(X, y, train_size=0.7, shuffle=True)\n",
        "\n",
        "  X_train_std = (X_train - np.mean(X_train))/np.std(X_train)\n",
        "  X_test_std = (X_test - np.mean(X_train))/np.std(X_train)\n",
        "\n",
        "  clf1 = MLPClassifier(activation='relu',solver='adam', verbose=False, hidden_layer_sizes=(10,), max_iter=300,alpha=1e-05,random_state=1)\n",
        "  clf1.fit(X_train_std, y_train)\n",
        "\n",
        "  y_pred =clf1.predict(X_train_std)\n",
        "\n",
        "  accuracys.append(accuracy_score(y_train, y_pred))\n",
        "  fscores.append(f1_score(y_train, y_pred, average=None))"
      ],
      "execution_count": null,
      "outputs": []
    },
    {
      "cell_type": "markdown",
      "metadata": {
        "id": "IMEjoGlDkCZ8"
      },
      "source": [
        "7.2 Apresente a média e o desvio padrão da acurácia e do F-Score para o conjunto de treino "
      ]
    },
    {
      "cell_type": "code",
      "metadata": {
        "id": "hYW4RVPHkBT4"
      },
      "source": [
        "print(\"------Acurácia------\\n Média: {0:.4f} \\n Desvio padrão: {1:.4f}\".format(np.mean(accuracys), np.std(accuracys)))\n",
        "print(\"------F Score------\\n Média: {0:.4f} \\n Desvio padrão: {1:.4f}\".format(np.mean(fscores), np.std(fscores)))"
      ],
      "execution_count": null,
      "outputs": []
    },
    {
      "cell_type": "markdown",
      "metadata": {
        "id": "wD01HEFoatgd"
      },
      "source": [
        "8) Repita por 100 vezes o treinamento desta mesma rede, mas utilizando o otimizador SGD"
      ]
    },
    {
      "cell_type": "code",
      "metadata": {
        "id": "FnbeZdZIatgd"
      },
      "source": [
        "clf2 = MLPClassifier(activation='relu',solver='sgd', verbose=False, hidden_layer_sizes=(10,), max_iter=100,alpha=1e-05,random_state=1)"
      ],
      "execution_count": null,
      "outputs": []
    },
    {
      "cell_type": "code",
      "metadata": {
        "id": "6YNNknnGatge"
      },
      "source": [
        "clf2.fit(X_train_std, y_train)"
      ],
      "execution_count": null,
      "outputs": []
    },
    {
      "cell_type": "markdown",
      "metadata": {
        "id": "6IVvZGZWatge"
      },
      "source": [
        "8.1 Apresente a média e o desvio padrão da acurácia e do F-Score para o conjunto de treino"
      ]
    },
    {
      "cell_type": "code",
      "metadata": {
        "id": "KUqqkEtYatge"
      },
      "source": [
        "y_pred2 =clf2.predict(X_test_std)\n",
        "\n",
        "print('Acurácia: {:.4f}'.format(accuracy_score(y_test, y_pred2)))"
      ],
      "execution_count": null,
      "outputs": []
    },
    {
      "cell_type": "code",
      "metadata": {
        "id": "5oGK_xmzatge"
      },
      "source": [
        "print(classification_report(y_test, y_pred2))"
      ],
      "execution_count": null,
      "outputs": []
    },
    {
      "cell_type": "markdown",
      "metadata": {
        "id": "0rDK0ysNatgf"
      },
      "source": [
        "9) Houve influência da escolha do otimizador no desempenho da rede?\n",
        "\n",
        "Resp. 9: Levando em consideração que o otimizador *\"SGD\"* leva mais épocas para convergir do que o otimizador *\"Adam\"*, pode-se concluir que sim, a escolha do otimizador foi influenciada pelo desempenho de ambos."
      ]
    },
    {
      "cell_type": "markdown",
      "metadata": {
        "id": "BQtUgsLQvEpA"
      },
      "source": [
        "## Discussão\n",
        "\n",
        "Nos passos anteriores, você avaliou o desempenho de uma única rede neural que contém os seguintes parâmetros: uma única camada oculta com 10 neurônios e função de ativação ReLU. O otimizador utilizado, quer seja SGD ou ADAM, trata-se do algoritmo para aproximar o gradiente do erro. Neste sentido, a escolha do otimizador é um hiperparâmetro, pois diz respeito a como a rede neural definida previamente atuará \"em tempo de execução\"  durante o processo de treinamento. Também são hiperparâmetros a quantidade de épocas, a taxa de aprendizado inicial, dentre outros.\n",
        "\n",
        "Cabe alientar também que você efetuou o treinamento desta rede por 100 vezes e apresentou os resultados em termos de média +- desvio padrão. Lembre-se que em uma rede neural há a inicialização aleatória de pesos e, em consequência, o desempenho delas está sujeito à uma flutuação estocástica. A execução destas múltiplas vezes faz com que eliminemos algum viés introduzido por uma boa ou má \"sorte\" na escolha de pesos no caso de uma única execução.\n",
        "\n",
        "Você também aprendeu uma estratégia para escalonar os atributos para uma melhor convergência da rede. Utilize-a em todos os treinamentos e testes propostos a seguir.\n",
        "\n",
        "## Propondo Novas Arquiteturas\n",
        "\n",
        "Variando  os parâmetros (uma ou duas camadas ocultas, com diferente números de neurônios em cada uma delas e a função de ativação) e o hiperparâmetros solver (Adam ou SGD) e o número de épocas (100,150 e 200), atenda ao que se pede:\n",
        "\n",
        "1. Proponha 10 arquiteturas distintas de RNAs para o problema em questão, à sua escolha\n",
        "2. Avalie cada uma das arquiteturas perante todos os hiperparâmetros apresentados por 100 vezes\n",
        "3. Como resultado da avaliação, apresente:  \n",
        "    3.1 Top-3 melhores redes no tocante à F-Score e Acurácia  \n",
        "    3.2 Repetição em que houve o melhor desempenho de cada uma dessas redes: ilustre tp, tf, fp e fn  "
      ]
    },
    {
      "cell_type": "code",
      "metadata": {
        "id": "YoPFP9GsvEpB"
      },
      "source": [
        ""
      ],
      "execution_count": null,
      "outputs": []
    },
    {
      "cell_type": "markdown",
      "metadata": {
        "id": "Hgh3XOK6vEpB"
      },
      "source": [
        "## Estimando o número de neurônios\n",
        "\n",
        "Um dos problemas de pesquisa com redes neurais artificiais consiste na determinação do número de neurônios em sua arquitetura. Embora não seja possível definir a priori qual rede neural é adequada para um problema, pois isto só é possível mediante uma busca exaustiva, há regras na literatura que sugerem o número de neurônios escondidos, tal como a regra da Pirâmide Geométrica, dada a seguir:\n",
        "\n",
        "$$N_h = \\alpha \\cdot \\sqrt{N_i \\cdot N_o},$$\n",
        "\n",
        "em que $N_h$ é o número de neurônios ocultos (a serem distribuídos em uma ou duas camadas ocultas), $N_i$ é o número de neurônios na camada de entrada e $N_o$ é o número de neurônios na camada de saída. \n",
        "\n",
        "1. Consulte a documentação da classe MLPClassifier (disponível em https://scikit-learn.org/stable/modules/generated/sklearn.neural_network.MLPClassifier.html) e obtenha os valores de $N_i$ e $N_o$.\n",
        "2. Teste os valores de $\\alpha$ como sendo iguais a $0.5$, $2$ e $3$.\n",
        "3. Proponha pelo menos 30 redes neurais segundo a regra da pirâmide geométrica e teste-as nos mesmos termos estabelecidos anterioremente  (solver, épocas, etc.)  \n",
        "    3.1 Apresente as top-3 melhores redes no tocante à F-Score e Acurácia  "
      ]
    },
    {
      "cell_type": "code",
      "metadata": {
        "id": "o2wRTHwsvEpB"
      },
      "source": [
        ""
      ],
      "execution_count": null,
      "outputs": []
    },
    {
      "cell_type": "markdown",
      "metadata": {
        "id": "fCZ6TOqYvEpB"
      },
      "source": [
        "## Testando as Redes Neurais com Atributos Categóricos\n",
        "\n",
        "1. Considere as 6 redes neurais obtidas nos dois top-3 anteriores (arquiteturas próprias e regra da pirâmide geométrica)\n",
        "2. Com todos os atributos preditores da base de dados original, incluindo os categóricos, treine e teste estas mesmas redes por 100 repetições  \n",
        "    2.1 Considere o melhor otimizador para cada uma delas  \n",
        "    2.2 Faça uso de 200 épocas para treinamento  \n",
        "    2.2 Apresente os resultados de acurácia e F-Score em termos da média +- dp para cada arquitetura\n",
        "3. Apresente o gráfico boxplot para o F-Score das 6 arquiteturas perante as 100 repetições"
      ]
    },
    {
      "cell_type": "code",
      "metadata": {
        "id": "RD4hSfBJvEpC"
      },
      "source": [
        ""
      ],
      "execution_count": null,
      "outputs": []
    },
    {
      "cell_type": "markdown",
      "metadata": {
        "id": "KtWwOklRvEpC"
      },
      "source": [
        "## Considerações Parciais\n",
        "\n",
        "1. É possível identificar uma rede com desempenho superior às demais?\n",
        "2. Qual estratégia mostrou-se mais producente para a obtenção de boas arquiteturas (Estratégia Própria ou Pirâmide Geométrica)? Por quê?\n",
        "3. Considerar os atributos categóricos trouxe melhorias? Justifique.\n",
        "4. Um número maior de épocas trouxe melhorias?\n",
        "5. Qual a maior dificuldade de resolução do problema proposto perante as RNAs?"
      ]
    },
    {
      "cell_type": "code",
      "metadata": {
        "id": "28jZb_BivEpC"
      },
      "source": [
        ""
      ],
      "execution_count": null,
      "outputs": []
    }
  ]
}